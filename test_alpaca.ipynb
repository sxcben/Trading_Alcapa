{
 "cells": [
  {
   "cell_type": "code",
   "execution_count": 1,
   "metadata": {},
   "outputs": [
    {
     "ename": "ModuleNotFoundError",
     "evalue": "No module named 'alpaca'",
     "output_type": "error",
     "traceback": [
      "\u001b[1;31m---------------------------------------------------------------------------\u001b[0m",
      "\u001b[1;31mModuleNotFoundError\u001b[0m                       Traceback (most recent call last)",
      "Input \u001b[1;32mIn [1]\u001b[0m, in \u001b[0;36m<cell line: 1>\u001b[1;34m()\u001b[0m\n\u001b[1;32m----> 1\u001b[0m \u001b[38;5;28;01mfrom\u001b[39;00m \u001b[38;5;21;01malpaca\u001b[39;00m\u001b[38;5;21;01m.\u001b[39;00m\u001b[38;5;21;01mdata\u001b[39;00m\u001b[38;5;21;01m.\u001b[39;00m\u001b[38;5;21;01mhistorical\u001b[39;00m \u001b[38;5;28;01mimport\u001b[39;00m StockHistoricalDataClient\n\u001b[0;32m      2\u001b[0m \u001b[38;5;28;01mfrom\u001b[39;00m \u001b[38;5;21;01malpaca\u001b[39;00m\u001b[38;5;21;01m.\u001b[39;00m\u001b[38;5;21;01mdata\u001b[39;00m\u001b[38;5;21;01m.\u001b[39;00m\u001b[38;5;21;01mhistorical\u001b[39;00m \u001b[38;5;28;01mimport\u001b[39;00m OptionHistoricalDataClient\n\u001b[0;32m      3\u001b[0m \u001b[38;5;28;01mfrom\u001b[39;00m \u001b[38;5;21;01malpaca\u001b[39;00m\u001b[38;5;21;01m.\u001b[39;00m\u001b[38;5;21;01mdata\u001b[39;00m\u001b[38;5;21;01m.\u001b[39;00m\u001b[38;5;21;01mhistorical\u001b[39;00m \u001b[38;5;28;01mimport\u001b[39;00m CryptoHistoricalDataClient\n",
      "\u001b[1;31mModuleNotFoundError\u001b[0m: No module named 'alpaca'"
     ]
    }
   ],
   "source": [
    "from alpaca.data.historical import StockHistoricalDataClient\n",
    "from alpaca.data.historical import OptionHistoricalDataClient\n",
    "from alpaca.data.historical import CryptoHistoricalDataClient\n",
    "\n",
    "from alpaca.data.requests import StockBarsRequest\n",
    "from alpaca.data.requests import OptionBarsRequest\n",
    "from alpaca.data.requests import CryptoBarsRequest\n",
    "\n",
    "from alpaca.data.timeframe import TimeFrame"
   ]
  },
  {
   "cell_type": "code",
   "execution_count": null,
   "metadata": {},
   "outputs": [],
   "source": [
    "# Use you API key and secret\n",
    "api_key = 'your_api_key'\n",
    "api_secret = 'your_api_secret'\n",
    "base_url = 'https://paper-api.alpaca.markets/v2'  # Use paper trading base URL for testing"
   ]
  },
  {
   "cell_type": "code",
   "execution_count": 10,
   "metadata": {},
   "outputs": [],
   "source": [
    "stock_client = StockHistoricalDataClient(api_key, api_secret)\n",
    "option_client = OptionHistoricalDataClient(api_key, api_secret)\n",
    "crypto_client = CryptoHistoricalDataClient() # no API key needed for crypto data\n"
   ]
  },
  {
   "cell_type": "code",
   "execution_count": 14,
   "metadata": {},
   "outputs": [],
   "source": [
    "# Creating request objects\n",
    "stock_request_params = StockBarsRequest(\n",
    "  symbol_or_symbols=['AAPL'],\n",
    "  timeframe=TimeFrame.Day,\n",
    "  start='2022-09-01',\n",
    "  end='2022-09-07'\n",
    ")\n",
    "\n",
    "option_request_params = OptionBarsRequest(\n",
    "  symbol_or_symbols=['AAPL241219P00170000'],\n",
    "  timeframe=TimeFrame.Day,\n",
    "  start='2022-09-01',\n",
    "  end='2022-09-07'\n",
    ")\n",
    "\n",
    "crypto_request_params = CryptoBarsRequest(\n",
    "  symbol_or_symbols=['BTC/USD'],\n",
    "  timeframe=TimeFrame.Day,\n",
    "  start='2022-09-01',\n",
    "  end='2022-09-07'\n",
    ")"
   ]
  },
  {
   "cell_type": "code",
   "execution_count": 17,
   "metadata": {},
   "outputs": [],
   "source": [
    "# Retrieve daily bars\n",
    "aapl_bars = stock_client.get_stock_bars(stock_request_params)\n",
    "aapl_option_bars = option_client.get_option_bars(option_request_params)\n",
    "btc_bars = crypto_client.get_crypto_bars(crypto_request_params)"
   ]
  },
  {
   "cell_type": "code",
   "execution_count": 18,
   "metadata": {},
   "outputs": [
    {
     "data": {
      "text/html": [
       "<div>\n",
       "<style scoped>\n",
       "    .dataframe tbody tr th:only-of-type {\n",
       "        vertical-align: middle;\n",
       "    }\n",
       "\n",
       "    .dataframe tbody tr th {\n",
       "        vertical-align: top;\n",
       "    }\n",
       "\n",
       "    .dataframe thead th {\n",
       "        text-align: right;\n",
       "    }\n",
       "</style>\n",
       "<table border=\"1\" class=\"dataframe\">\n",
       "  <thead>\n",
       "    <tr style=\"text-align: right;\">\n",
       "      <th></th>\n",
       "      <th></th>\n",
       "      <th>open</th>\n",
       "      <th>high</th>\n",
       "      <th>low</th>\n",
       "      <th>close</th>\n",
       "      <th>volume</th>\n",
       "      <th>trade_count</th>\n",
       "      <th>vwap</th>\n",
       "    </tr>\n",
       "    <tr>\n",
       "      <th>symbol</th>\n",
       "      <th>timestamp</th>\n",
       "      <th></th>\n",
       "      <th></th>\n",
       "      <th></th>\n",
       "      <th></th>\n",
       "      <th></th>\n",
       "      <th></th>\n",
       "      <th></th>\n",
       "    </tr>\n",
       "  </thead>\n",
       "  <tbody>\n",
       "    <tr>\n",
       "      <th rowspan=\"3\" valign=\"top\">AAPL</th>\n",
       "      <th>2022-09-01 04:00:00+00:00</th>\n",
       "      <td>156.64</td>\n",
       "      <td>158.420</td>\n",
       "      <td>154.670</td>\n",
       "      <td>157.96</td>\n",
       "      <td>79346064.0</td>\n",
       "      <td>654669.0</td>\n",
       "      <td>156.592275</td>\n",
       "    </tr>\n",
       "    <tr>\n",
       "      <th>2022-09-02 04:00:00+00:00</th>\n",
       "      <td>159.75</td>\n",
       "      <td>160.362</td>\n",
       "      <td>154.965</td>\n",
       "      <td>155.81</td>\n",
       "      <td>83452944.0</td>\n",
       "      <td>644431.0</td>\n",
       "      <td>157.552561</td>\n",
       "    </tr>\n",
       "    <tr>\n",
       "      <th>2022-09-06 04:00:00+00:00</th>\n",
       "      <td>156.47</td>\n",
       "      <td>157.090</td>\n",
       "      <td>153.690</td>\n",
       "      <td>154.53</td>\n",
       "      <td>78705759.0</td>\n",
       "      <td>687438.0</td>\n",
       "      <td>154.989143</td>\n",
       "    </tr>\n",
       "  </tbody>\n",
       "</table>\n",
       "</div>"
      ],
      "text/plain": [
       "                                    open     high      low   close  \\\n",
       "symbol timestamp                                                     \n",
       "AAPL   2022-09-01 04:00:00+00:00  156.64  158.420  154.670  157.96   \n",
       "       2022-09-02 04:00:00+00:00  159.75  160.362  154.965  155.81   \n",
       "       2022-09-06 04:00:00+00:00  156.47  157.090  153.690  154.53   \n",
       "\n",
       "                                      volume  trade_count        vwap  \n",
       "symbol timestamp                                                       \n",
       "AAPL   2022-09-01 04:00:00+00:00  79346064.0     654669.0  156.592275  \n",
       "       2022-09-02 04:00:00+00:00  83452944.0     644431.0  157.552561  \n",
       "       2022-09-06 04:00:00+00:00  78705759.0     687438.0  154.989143  "
      ]
     },
     "execution_count": 18,
     "metadata": {},
     "output_type": "execute_result"
    }
   ],
   "source": [
    "# Convert to dataframe\n",
    "aapl_bars.df"
   ]
  },
  {
   "cell_type": "code",
   "execution_count": 19,
   "metadata": {},
   "outputs": [
    {
     "data": {
      "text/html": [
       "<div>\n",
       "<style scoped>\n",
       "    .dataframe tbody tr th:only-of-type {\n",
       "        vertical-align: middle;\n",
       "    }\n",
       "\n",
       "    .dataframe tbody tr th {\n",
       "        vertical-align: top;\n",
       "    }\n",
       "\n",
       "    .dataframe thead th {\n",
       "        text-align: right;\n",
       "    }\n",
       "</style>\n",
       "<table border=\"1\" class=\"dataframe\">\n",
       "  <thead>\n",
       "    <tr style=\"text-align: right;\">\n",
       "      <th></th>\n",
       "    </tr>\n",
       "  </thead>\n",
       "  <tbody>\n",
       "  </tbody>\n",
       "</table>\n",
       "</div>"
      ],
      "text/plain": [
       "Empty DataFrame\n",
       "Columns: []\n",
       "Index: []"
      ]
     },
     "execution_count": 19,
     "metadata": {},
     "output_type": "execute_result"
    }
   ],
   "source": [
    "# Convert to dataframe\n",
    "aapl_option_bars.df"
   ]
  },
  {
   "cell_type": "code",
   "execution_count": 8,
   "metadata": {},
   "outputs": [
    {
     "data": {
      "text/html": [
       "<div>\n",
       "<style scoped>\n",
       "    .dataframe tbody tr th:only-of-type {\n",
       "        vertical-align: middle;\n",
       "    }\n",
       "\n",
       "    .dataframe tbody tr th {\n",
       "        vertical-align: top;\n",
       "    }\n",
       "\n",
       "    .dataframe thead th {\n",
       "        text-align: right;\n",
       "    }\n",
       "</style>\n",
       "<table border=\"1\" class=\"dataframe\">\n",
       "  <thead>\n",
       "    <tr style=\"text-align: right;\">\n",
       "      <th></th>\n",
       "      <th></th>\n",
       "      <th>open</th>\n",
       "      <th>high</th>\n",
       "      <th>low</th>\n",
       "      <th>close</th>\n",
       "      <th>volume</th>\n",
       "      <th>trade_count</th>\n",
       "      <th>vwap</th>\n",
       "    </tr>\n",
       "    <tr>\n",
       "      <th>symbol</th>\n",
       "      <th>timestamp</th>\n",
       "      <th></th>\n",
       "      <th></th>\n",
       "      <th></th>\n",
       "      <th></th>\n",
       "      <th></th>\n",
       "      <th></th>\n",
       "      <th></th>\n",
       "    </tr>\n",
       "  </thead>\n",
       "  <tbody>\n",
       "    <tr>\n",
       "      <th rowspan=\"3\" valign=\"top\">AAPL</th>\n",
       "      <th>2022-09-01 04:00:00+00:00</th>\n",
       "      <td>156.64</td>\n",
       "      <td>158.420</td>\n",
       "      <td>154.670</td>\n",
       "      <td>157.96</td>\n",
       "      <td>79346064.0</td>\n",
       "      <td>654669.0</td>\n",
       "      <td>156.592275</td>\n",
       "    </tr>\n",
       "    <tr>\n",
       "      <th>2022-09-02 04:00:00+00:00</th>\n",
       "      <td>159.75</td>\n",
       "      <td>160.362</td>\n",
       "      <td>154.965</td>\n",
       "      <td>155.81</td>\n",
       "      <td>83452944.0</td>\n",
       "      <td>644431.0</td>\n",
       "      <td>157.552561</td>\n",
       "    </tr>\n",
       "    <tr>\n",
       "      <th>2022-09-06 04:00:00+00:00</th>\n",
       "      <td>156.47</td>\n",
       "      <td>157.090</td>\n",
       "      <td>153.690</td>\n",
       "      <td>154.53</td>\n",
       "      <td>78705759.0</td>\n",
       "      <td>687438.0</td>\n",
       "      <td>154.989143</td>\n",
       "    </tr>\n",
       "  </tbody>\n",
       "</table>\n",
       "</div>"
      ],
      "text/plain": [
       "                                    open     high      low   close  \\\n",
       "symbol timestamp                                                     \n",
       "AAPL   2022-09-01 04:00:00+00:00  156.64  158.420  154.670  157.96   \n",
       "       2022-09-02 04:00:00+00:00  159.75  160.362  154.965  155.81   \n",
       "       2022-09-06 04:00:00+00:00  156.47  157.090  153.690  154.53   \n",
       "\n",
       "                                      volume  trade_count        vwap  \n",
       "symbol timestamp                                                       \n",
       "AAPL   2022-09-01 04:00:00+00:00  79346064.0     654669.0  156.592275  \n",
       "       2022-09-02 04:00:00+00:00  83452944.0     644431.0  157.552561  \n",
       "       2022-09-06 04:00:00+00:00  78705759.0     687438.0  154.989143  "
      ]
     },
     "execution_count": 8,
     "metadata": {},
     "output_type": "execute_result"
    }
   ],
   "source": [
    "# Convert to dataframe\n",
    "btc_bars.df"
   ]
  }
 ],
 "metadata": {
  "kernelspec": {
   "display_name": "Python 3",
   "language": "python",
   "name": "python3"
  },
  "language_info": {
   "codemirror_mode": {
    "name": "ipython",
    "version": 3
   },
   "file_extension": ".py",
   "mimetype": "text/x-python",
   "name": "python",
   "nbconvert_exporter": "python",
   "pygments_lexer": "ipython3",
   "version": "3.10.5"
  }
 },
 "nbformat": 4,
 "nbformat_minor": 2
}
